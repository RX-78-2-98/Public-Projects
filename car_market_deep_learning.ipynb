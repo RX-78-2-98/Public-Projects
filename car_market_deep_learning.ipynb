{
 "cells": [
  {
   "cell_type": "markdown",
   "id": "e2c3e70d",
   "metadata": {},
   "source": [
    "# Car Market Deep Learning Pipeline\n",
    "\n",
    "This notebook includes:\n",
    "1. Sample data generation  \n",
    "2. Data preprocessing  \n",
    "3. Train/Validation/Test splitting (robust to small splits)  \n",
    "4. Model definitions (MLP & LSTM)  \n",
    "5. Training & evaluation\n",
    "6. Visualizations and interpretations  \n"
   ]
  },
  {
   "cell_type": "code",
   "execution_count": 21,
   "id": "3df7fc97",
   "metadata": {},
   "outputs": [],
   "source": [
    "import math\n",
    "import os\n",
    "from pathlib import Path\n",
    "\n",
    "import numpy as np\n",
    "import pandas as pd\n",
    "import matplotlib.pyplot as plt\n",
    "import torch\n",
    "from torch import nn\n",
    "from torch.utils.data import DataLoader, Dataset\n",
    "from sklearn.preprocessing import MinMaxScaler, OneHotEncoder\n",
    "from sklearn.metrics import mean_absolute_error, mean_squared_error\n",
    "\n",
    "# Lightning import\n",
    "try:\n",
    "    import lightning as L\n",
    "    pl = L.pytorch\n",
    "except ImportError:\n",
    "    import pytorch_lightning as pl\n",
    "\n",
    "from lightning.pytorch.callbacks import EarlyStopping, ModelCheckpoint\n",
    "\n",
    "plt.rcParams['figure.figsize'] = (8, 4)\n"
   ]
  },
  {
   "cell_type": "markdown",
   "id": "37e89e19",
   "metadata": {},
   "source": [
    "## 1. Sample Data Generation\n",
    "\n",
    "Generate sample datafor 2010–2021, multiple makes per region.\n"
   ]
  },
  {
   "cell_type": "code",
   "execution_count": 22,
   "id": "d70924b5",
   "metadata": {},
   "outputs": [
    {
     "data": {
      "application/vnd.microsoft.datawrangler.viewer.v0+json": {
       "columns": [
        {
         "name": "index",
         "rawType": "int64",
         "type": "integer"
        },
        {
         "name": "year",
         "rawType": "int64",
         "type": "integer"
        },
        {
         "name": "region",
         "rawType": "object",
         "type": "string"
        },
        {
         "name": "make",
         "rawType": "object",
         "type": "string"
        },
        {
         "name": "gdp",
         "rawType": "float64",
         "type": "float"
        },
        {
         "name": "cpi",
         "rawType": "float64",
         "type": "float"
        },
        {
         "name": "oil_price",
         "rawType": "float64",
         "type": "float"
        },
        {
         "name": "production_volume",
         "rawType": "int64",
         "type": "integer"
        }
       ],
       "ref": "27489882-10e0-42d3-ab28-c082b55e3520",
       "rows": [
        [
         "0",
         "2010",
         "North America",
         "USA",
         "15000000000000.0",
         "218.056",
         "86.69342680980405",
         "8715384"
        ],
        [
         "1",
         "2010",
         "North America",
         "Canada",
         "15000000000000.0",
         "218.056",
         "79.76786892762512",
         "6957546"
        ],
        [
         "2",
         "2010",
         "North America",
         "Mexico",
         "15000000000000.0",
         "218.056",
         "78.01907038687214",
         "7490744"
        ],
        [
         "3",
         "2010",
         "Europe",
         "Germany",
         "3400000000000.0",
         "105.35",
         "81.23691815698129",
         "6818613"
        ],
        [
         "4",
         "2010",
         "Europe",
         "France",
         "3400000000000.0",
         "105.35",
         "78.50697198525586",
         "5876894"
        ],
        [
         "5",
         "2010",
         "Europe",
         "UK",
         "3400000000000.0",
         "105.35",
         "67.27565467229267",
         "6354630"
        ],
        [
         "6",
         "2010",
         "Asia",
         "Japan",
         "5700000000000.0",
         "99.778",
         "81.00602377068597",
         "9765717"
        ],
        [
         "7",
         "2010",
         "Asia",
         "China",
         "5700000000000.0",
         "99.778",
         "79.71143314657252",
         "11659175"
        ],
        [
         "8",
         "2010",
         "Asia",
         "India",
         "5700000000000.0",
         "99.778",
         "76.96066834460916",
         "10400607"
        ],
        [
         "9",
         "2011",
         "North America",
         "USA",
         "15450000000000.0",
         "222.41712",
         "86.64773348196998",
         "8717612"
        ]
       ],
       "shape": {
        "columns": 7,
        "rows": 10
       }
      },
      "text/html": [
       "<div>\n",
       "<style scoped>\n",
       "    .dataframe tbody tr th:only-of-type {\n",
       "        vertical-align: middle;\n",
       "    }\n",
       "\n",
       "    .dataframe tbody tr th {\n",
       "        vertical-align: top;\n",
       "    }\n",
       "\n",
       "    .dataframe thead th {\n",
       "        text-align: right;\n",
       "    }\n",
       "</style>\n",
       "<table border=\"1\" class=\"dataframe\">\n",
       "  <thead>\n",
       "    <tr style=\"text-align: right;\">\n",
       "      <th></th>\n",
       "      <th>year</th>\n",
       "      <th>region</th>\n",
       "      <th>make</th>\n",
       "      <th>gdp</th>\n",
       "      <th>cpi</th>\n",
       "      <th>oil_price</th>\n",
       "      <th>production_volume</th>\n",
       "    </tr>\n",
       "  </thead>\n",
       "  <tbody>\n",
       "    <tr>\n",
       "      <th>0</th>\n",
       "      <td>2010</td>\n",
       "      <td>North America</td>\n",
       "      <td>USA</td>\n",
       "      <td>1.500000e+13</td>\n",
       "      <td>218.05600</td>\n",
       "      <td>86.693427</td>\n",
       "      <td>8715384</td>\n",
       "    </tr>\n",
       "    <tr>\n",
       "      <th>1</th>\n",
       "      <td>2010</td>\n",
       "      <td>North America</td>\n",
       "      <td>Canada</td>\n",
       "      <td>1.500000e+13</td>\n",
       "      <td>218.05600</td>\n",
       "      <td>79.767869</td>\n",
       "      <td>6957546</td>\n",
       "    </tr>\n",
       "    <tr>\n",
       "      <th>2</th>\n",
       "      <td>2010</td>\n",
       "      <td>North America</td>\n",
       "      <td>Mexico</td>\n",
       "      <td>1.500000e+13</td>\n",
       "      <td>218.05600</td>\n",
       "      <td>78.019070</td>\n",
       "      <td>7490744</td>\n",
       "    </tr>\n",
       "    <tr>\n",
       "      <th>3</th>\n",
       "      <td>2010</td>\n",
       "      <td>Europe</td>\n",
       "      <td>Germany</td>\n",
       "      <td>3.400000e+12</td>\n",
       "      <td>105.35000</td>\n",
       "      <td>81.236918</td>\n",
       "      <td>6818613</td>\n",
       "    </tr>\n",
       "    <tr>\n",
       "      <th>4</th>\n",
       "      <td>2010</td>\n",
       "      <td>Europe</td>\n",
       "      <td>France</td>\n",
       "      <td>3.400000e+12</td>\n",
       "      <td>105.35000</td>\n",
       "      <td>78.506972</td>\n",
       "      <td>5876894</td>\n",
       "    </tr>\n",
       "    <tr>\n",
       "      <th>5</th>\n",
       "      <td>2010</td>\n",
       "      <td>Europe</td>\n",
       "      <td>UK</td>\n",
       "      <td>3.400000e+12</td>\n",
       "      <td>105.35000</td>\n",
       "      <td>67.275655</td>\n",
       "      <td>6354630</td>\n",
       "    </tr>\n",
       "    <tr>\n",
       "      <th>6</th>\n",
       "      <td>2010</td>\n",
       "      <td>Asia</td>\n",
       "      <td>Japan</td>\n",
       "      <td>5.700000e+12</td>\n",
       "      <td>99.77800</td>\n",
       "      <td>81.006024</td>\n",
       "      <td>9765717</td>\n",
       "    </tr>\n",
       "    <tr>\n",
       "      <th>7</th>\n",
       "      <td>2010</td>\n",
       "      <td>Asia</td>\n",
       "      <td>China</td>\n",
       "      <td>5.700000e+12</td>\n",
       "      <td>99.77800</td>\n",
       "      <td>79.711433</td>\n",
       "      <td>11659175</td>\n",
       "    </tr>\n",
       "    <tr>\n",
       "      <th>8</th>\n",
       "      <td>2010</td>\n",
       "      <td>Asia</td>\n",
       "      <td>India</td>\n",
       "      <td>5.700000e+12</td>\n",
       "      <td>99.77800</td>\n",
       "      <td>76.960668</td>\n",
       "      <td>10400607</td>\n",
       "    </tr>\n",
       "    <tr>\n",
       "      <th>9</th>\n",
       "      <td>2011</td>\n",
       "      <td>North America</td>\n",
       "      <td>USA</td>\n",
       "      <td>1.545000e+13</td>\n",
       "      <td>222.41712</td>\n",
       "      <td>86.647733</td>\n",
       "      <td>8717612</td>\n",
       "    </tr>\n",
       "  </tbody>\n",
       "</table>\n",
       "</div>"
      ],
      "text/plain": [
       "   year         region     make           gdp        cpi  oil_price  \\\n",
       "0  2010  North America      USA  1.500000e+13  218.05600  86.693427   \n",
       "1  2010  North America   Canada  1.500000e+13  218.05600  79.767869   \n",
       "2  2010  North America   Mexico  1.500000e+13  218.05600  78.019070   \n",
       "3  2010         Europe  Germany  3.400000e+12  105.35000  81.236918   \n",
       "4  2010         Europe   France  3.400000e+12  105.35000  78.506972   \n",
       "5  2010         Europe       UK  3.400000e+12  105.35000  67.275655   \n",
       "6  2010           Asia    Japan  5.700000e+12   99.77800  81.006024   \n",
       "7  2010           Asia    China  5.700000e+12   99.77800  79.711433   \n",
       "8  2010           Asia    India  5.700000e+12   99.77800  76.960668   \n",
       "9  2011  North America      USA  1.545000e+13  222.41712  86.647733   \n",
       "\n",
       "   production_volume  \n",
       "0            8715384  \n",
       "1            6957546  \n",
       "2            7490744  \n",
       "3            6818613  \n",
       "4            5876894  \n",
       "5            6354630  \n",
       "6            9765717  \n",
       "7           11659175  \n",
       "8           10400607  \n",
       "9            8717612  "
      ]
     },
     "execution_count": 22,
     "metadata": {},
     "output_type": "execute_result"
    }
   ],
   "source": [
    "data_path = Path(\"car_market_expanded.csv\")\n",
    "if not data_path.exists():\n",
    "    years = list(range(2010, 2022))\n",
    "    regions = [\"North America\", \"Europe\", \"Asia\"]\n",
    "    makes_per_region = {\n",
    "        \"North America\": [\"USA\", \"Canada\", \"Mexico\"],\n",
    "        \"Europe\":        [\"Germany\", \"France\", \"UK\"],\n",
    "        \"Asia\":          [\"Japan\", \"China\", \"India\"]\n",
    "    }\n",
    "\n",
    "    rows = []\n",
    "    for year in years:\n",
    "        for region in regions:\n",
    "            for make in makes_per_region[region]:\n",
    "                base_gdp = {\n",
    "                    \"North America\": 1.5e13,\n",
    "                    \"Europe\":        3.4e12,\n",
    "                    \"Asia\":          5.7e12\n",
    "                }[region]\n",
    "                gdp = base_gdp * (1 + 0.03) ** (year - 2010)\n",
    "\n",
    "                base_cpi = {\n",
    "                    \"North America\": 218.056,\n",
    "                    \"Europe\":        105.350,\n",
    "                    \"Asia\":           99.778\n",
    "                }[region]\n",
    "                cpi = base_cpi * (1 + 0.02) ** (year - 2010)\n",
    "\n",
    "                oil_base = 80.0\n",
    "                oil_trend = 2.0 * (year - 2010)\n",
    "                oil_cycle = 15.0 * np.sin((year - 2010) * np.pi / 4)\n",
    "                oil_noise = np.random.normal(scale=5.0)\n",
    "                oil_price = max(10.0, oil_base + oil_trend + oil_cycle + oil_noise)\n",
    "\n",
    "                base_prod_region = {\n",
    "                    \"North America\": 8_500_000,\n",
    "                    \"Europe\":         6_800_000,\n",
    "                    \"Asia\":           9_500_000\n",
    "                }[region]\n",
    "                make_factor = {\n",
    "                    \"USA\": 1.0, \"Canada\": 0.8, \"Mexico\": 0.9,\n",
    "                    \"Germany\": 1.0, \"France\": 0.85, \"UK\": 0.9,\n",
    "                    \"Japan\": 1.0, \"China\": 1.2, \"India\": 1.1\n",
    "                }[make]\n",
    "                prod_trend = base_prod_region * make_factor * (1 + 0.02) ** (year - 2010)\n",
    "                prod_noise = np.random.randint(-300_000, 300_000)\n",
    "                production_volume = int(max(500_000, prod_trend + prod_noise))\n",
    "\n",
    "                rows.append((\n",
    "                    year,\n",
    "                    region,\n",
    "                    make,\n",
    "                    float(gdp),\n",
    "                    float(cpi),\n",
    "                    float(oil_price),\n",
    "                    production_volume\n",
    "                ))\n",
    "\n",
    "    df_expanded = pd.DataFrame(\n",
    "        rows,\n",
    "        columns=[\n",
    "            \"year\",\n",
    "            \"region\",\n",
    "            \"make\",\n",
    "            \"gdp\",\n",
    "            \"cpi\",\n",
    "            \"oil_price\",\n",
    "            \"production_volume\"\n",
    "        ]\n",
    "    )\n",
    "    df_expanded.to_csv(data_path, index=False)\n",
    "    print(f\"Generated expanded data with shape: {df_expanded.shape}\")\n",
    "\n",
    "df = pd.read_csv(data_path)\n",
    "df.head(10)\n"
   ]
  },
  {
   "cell_type": "markdown",
   "id": "a7bbc594",
   "metadata": {},
   "source": [
    "## 2. Data Preprocessing\n",
    "\n",
    "- Sort by year  \n",
    "- Interpolate/ fill missing  \n",
    "- One-hot encode categorical columns  \n",
    "- Scale numerical columns  \n"
   ]
  },
  {
   "cell_type": "code",
   "execution_count": 23,
   "id": "3b9e28ef",
   "metadata": {},
   "outputs": [
    {
     "name": "stdout",
     "output_type": "stream",
     "text": [
      "Preprocessed X shape: (108, 15), single_step_dim = 15\n"
     ]
    }
   ],
   "source": [
    "def load_and_preprocess(df, time_col, target_col, cat_cols, num_cols):\n",
    "    df = df.sort_values(time_col)\n",
    "    df[num_cols] = df[num_cols].interpolate().ffill().bfill()\n",
    "    df[cat_cols] = df[cat_cols].fillna(\"unknown\")\n",
    "    ohe = OneHotEncoder(sparse_output=False, handle_unknown=\"ignore\")\n",
    "    cat_encoded = ohe.fit_transform(df[cat_cols])\n",
    "    scaler = MinMaxScaler()\n",
    "    num_scaled = scaler.fit_transform(df[num_cols])\n",
    "    target = df[target_col].values.reshape(-1, 1)\n",
    "    y_scaler = MinMaxScaler()\n",
    "    target_scaled = y_scaler.fit_transform(target).flatten()\n",
    "    X = np.hstack([cat_encoded, num_scaled])\n",
    "    return X, target_scaled, scaler, ohe\n",
    "\n",
    "# Specify columns\n",
    "time_col = \"year\"\n",
    "target_col = \"production_volume\"\n",
    "cat_cols = [\"region\", \"make\"]\n",
    "num_cols = [\"gdp\", \"oil_price\", \"cpi\"]\n",
    "\n",
    "X, y, scaler, ohe = load_and_preprocess(df, time_col, target_col, cat_cols, num_cols)\n",
    "single_step_dim = X.shape[1]\n",
    "print(f\"Preprocessed X shape: {X.shape}, single_step_dim = {single_step_dim}\")\n"
   ]
  },
  {
   "cell_type": "markdown",
   "id": "54ac095b",
   "metadata": {},
   "source": [
    "## 3. Train/Validation/Test Split\n",
    "\n",
    "Split into:\n",
    "- 70% train  \n",
    "- 10% validation  \n",
    "- 20% test  \n",
    "\n",
    "Ensure each split yields at least one sequence.\n"
   ]
  },
  {
   "cell_type": "code",
   "execution_count": 24,
   "id": "df9e2e67",
   "metadata": {},
   "outputs": [
    {
     "name": "stdout",
     "output_type": "stream",
     "text": [
      "Train sequences: 73, Val sequences: 6, Test sequences: 17\n"
     ]
    }
   ],
   "source": [
    "seq_len = 4\n",
    "total_len = X.shape[0]\n",
    "test_size = int(0.2 * total_len)\n",
    "val_size = int(0.1 * total_len)\n",
    "train_size = total_len - test_size - val_size\n",
    "\n",
    "X_train, y_train = X[:train_size], y[:train_size]\n",
    "X_val,   y_val   = X[train_size:train_size+val_size], y[train_size:train_size+val_size]\n",
    "X_test,  y_test  = X[train_size+val_size:], y[train_size+val_size:]\n",
    "\n",
    "# Only create dataset if there are > seq_len points\n",
    "class CarMarketDataset(Dataset):\n",
    "    def __init__(self, features, targets, seq_len=4):\n",
    "        self.X = torch.tensor(features, dtype=torch.float32)\n",
    "        self.y = torch.tensor(targets, dtype=torch.float32)\n",
    "        self.seq_len = seq_len\n",
    "\n",
    "    def __len__(self):\n",
    "        return max(0, self.X.shape[0] - self.seq_len)\n",
    "\n",
    "    def __getitem__(self, idx):\n",
    "        return self.X[idx:idx+self.seq_len], self.y[idx+self.seq_len]\n",
    "\n",
    "def make_dataset_if_valid(X_sub, y_sub, seq_len):\n",
    "    if X_sub.shape[0] > seq_len:\n",
    "        return CarMarketDataset(X_sub, y_sub, seq_len)\n",
    "    return None\n",
    "\n",
    "train_ds = make_dataset_if_valid(X_train, y_train, seq_len)\n",
    "val_ds   = make_dataset_if_valid(X_val,   y_val,   seq_len)\n",
    "test_ds  = make_dataset_if_valid(X_test,  y_test,  seq_len)\n",
    "\n",
    "# Only create loader if dataset length > 0\n",
    "train_dl = DataLoader(train_ds, batch_size=8, shuffle=False) if (train_ds and len(train_ds) > 0) else None\n",
    "val_dl   = DataLoader(val_ds,   batch_size=8, shuffle=False) if (val_ds and len(val_ds) > 0) else None\n",
    "test_dl  = DataLoader(test_ds,  batch_size=8, shuffle=False) if (test_ds and len(test_ds) > 0) else None\n",
    "\n",
    "print(f\"Train sequences: {len(train_ds) if train_ds else 0}, Val sequences: {len(val_ds) if val_ds else 0}, Test sequences: {len(test_ds) if test_ds else 0}\")\n"
   ]
  },
  {
   "cell_type": "markdown",
   "id": "81ee6ac4",
   "metadata": {},
   "source": [
    "### 3.1 Define `evaluate` Utility\n",
    "\n",
    "Flatten inputs if 3D for MLP compatibility.\n"
   ]
  },
  {
   "cell_type": "code",
   "execution_count": 25,
   "id": "1d2b1635",
   "metadata": {},
   "outputs": [],
   "source": [
    "def evaluate(model: pl.LightningModule, dl: DataLoader):\n",
    "    model.eval()\n",
    "    ys, preds = [], []\n",
    "    with torch.no_grad():\n",
    "        for x, y in dl:\n",
    "            # x has shape (batch, seq_len, features)\n",
    "            # If the model has an LSTM layer, pass x as‐is. Otherwise (MLP), flatten to 2D.\n",
    "            if hasattr(model, \"lstm\"):\n",
    "                x_in = x  # keep 3D for LSTMModel\n",
    "            else:\n",
    "                x_in = x.view(x.size(0), -1)  # flatten for MLP\n",
    "\n",
    "            pred = model(x_in)\n",
    "            ys.append(y.numpy())\n",
    "            preds.append(pred.numpy())\n",
    "\n",
    "    ys = np.concatenate(ys)\n",
    "    preds = np.concatenate(preds)\n",
    "    rmse = math.sqrt(mean_squared_error(ys, preds))\n",
    "    mae = mean_absolute_error(ys, preds)\n",
    "    return rmse, mae\n"
   ]
  },
  {
   "cell_type": "markdown",
   "id": "2dfd5dd3",
   "metadata": {},
   "source": [
    "## 4. Model Definitions\n",
    "\n",
    "Define MLP and LSTM Lightning modules.\n"
   ]
  },
  {
   "cell_type": "code",
   "execution_count": 26,
   "id": "1a36fb6d",
   "metadata": {},
   "outputs": [],
   "source": [
    "class MLP(pl.LightningModule):\n",
    "    def __init__(self, input_dim, hidden_dims=[128,64], lr=1e-3):\n",
    "        super().__init__()\n",
    "        layers = []\n",
    "        prev = input_dim\n",
    "        for h in hidden_dims:\n",
    "            layers += [nn.Linear(prev,h), nn.ReLU(), nn.Dropout(0.2)]\n",
    "            prev = h\n",
    "        layers.append(nn.Linear(prev,1))\n",
    "        self.net = nn.Sequential(*layers)\n",
    "        self.lr = lr\n",
    "        self.criterion = nn.MSELoss()\n",
    "\n",
    "    def forward(self, x):\n",
    "        return self.net(x).squeeze(-1)\n",
    "\n",
    "    def training_step(self, batch, batch_idx):\n",
    "        x, y = batch\n",
    "        y_hat = self(x.view(x.size(0), -1))\n",
    "        loss = self.criterion(y_hat, y)\n",
    "        self.log(\"train_loss\", loss)\n",
    "        return loss\n",
    "\n",
    "    def validation_step(self, batch, batch_idx):\n",
    "        x, y = batch\n",
    "        y_hat = self(x.view(x.size(0), -1))\n",
    "        loss = self.criterion(y_hat, y)\n",
    "        self.log(\"val_loss\", loss, prog_bar=True)\n",
    "\n",
    "    def configure_optimizers(self):\n",
    "        return torch.optim.Adam(self.parameters(), lr=self.lr)\n",
    "\n",
    "\n",
    "class LSTMModel(pl.LightningModule):\n",
    "    def __init__(self, input_dim, hidden_dim=64, num_layers=2, lr=1e-3):\n",
    "        super().__init__()\n",
    "        self.lstm = nn.LSTM(input_dim, hidden_dim, num_layers, batch_first=True)\n",
    "        self.fc = nn.Linear(hidden_dim, 1)\n",
    "        self.lr = lr\n",
    "        self.criterion = nn.MSELoss()\n",
    "\n",
    "    def forward(self, x):\n",
    "        _, (h_n, _) = self.lstm(x)\n",
    "        return self.fc(h_n[-1]).squeeze(-1)\n",
    "\n",
    "    def training_step(self, batch, batch_idx):\n",
    "        x, y = batch\n",
    "        y_hat = self(x)\n",
    "        loss = self.criterion(y_hat, y)\n",
    "        self.log(\"train_loss\", loss)\n",
    "        return loss\n",
    "\n",
    "    def validation_step(self, batch, batch_idx):\n",
    "        x, y = batch\n",
    "        y_hat = self(x)\n",
    "        loss = self.criterion(y_hat, y)\n",
    "        self.log(\"val_loss\", loss, prog_bar=True)\n",
    "\n",
    "    def configure_optimizers(self):\n",
    "        return torch.optim.Adam(self.parameters(), lr=self.lr)\n"
   ]
  },
  {
   "cell_type": "markdown",
   "id": "e62365f2",
   "metadata": {},
   "source": [
    "## 5. Training and Evaluation"
   ]
  },
  {
   "cell_type": "markdown",
   "id": "491ca06b",
   "metadata": {},
   "source": [
    "### 5.1 Training Helper\n",
    "\n",
    "Train with or without validation.\n"
   ]
  },
  {
   "cell_type": "code",
   "execution_count": 27,
   "id": "4dc6f448",
   "metadata": {},
   "outputs": [],
   "source": [
    "def train_model(model, train_dl, val_dl, max_epochs=20):\n",
    "    if val_dl is not None:\n",
    "        checkpoint = ModelCheckpoint(monitor=\"val_loss\", mode=\"min\", save_top_k=1)\n",
    "        early = EarlyStopping(monitor=\"val_loss\", patience=5, mode=\"min\")\n",
    "        trainer = pl.Trainer(\n",
    "            max_epochs=max_epochs,\n",
    "            callbacks=[checkpoint, early],\n",
    "            log_every_n_steps=5,\n",
    "            accelerator=\"auto\",\n",
    "        )\n",
    "        trainer.fit(model, train_dl, val_dl)\n",
    "        return trainer, checkpoint\n",
    "    else:\n",
    "        trainer = pl.Trainer(\n",
    "            max_epochs=max_epochs,\n",
    "            callbacks=[],\n",
    "            log_every_n_steps=5,\n",
    "            accelerator=\"auto\",\n",
    "        )\n",
    "        trainer.fit(model, train_dl, None)\n",
    "        return trainer, None\n"
   ]
  },
  {
   "cell_type": "markdown",
   "id": "a3f77ade",
   "metadata": {},
   "source": [
    "### 5.2 Train and Evaluate MLP\n"
   ]
  },
  {
   "cell_type": "code",
   "execution_count": 28,
   "id": "ac7953cb",
   "metadata": {},
   "outputs": [
    {
     "name": "stderr",
     "output_type": "stream",
     "text": [
      "GPU available: False, used: False\n",
      "TPU available: False, using: 0 TPU cores\n",
      "HPU available: False, using: 0 HPUs\n"
     ]
    },
    {
     "name": "stderr",
     "output_type": "stream",
     "text": [
      "\n",
      "  | Name      | Type       | Params | Mode \n",
      "-------------------------------------------------\n",
      "0 | net       | Sequential | 16.1 K | train\n",
      "1 | criterion | MSELoss    | 0      | train\n",
      "-------------------------------------------------\n",
      "16.1 K    Trainable params\n",
      "0         Non-trainable params\n",
      "16.1 K    Total params\n",
      "0.065     Total estimated model params size (MB)\n",
      "9         Modules in train mode\n",
      "0         Modules in eval mode\n"
     ]
    },
    {
     "name": "stdout",
     "output_type": "stream",
     "text": [
      "                                                                            "
     ]
    },
    {
     "name": "stderr",
     "output_type": "stream",
     "text": [
      "C:\\Users\\TE570809\\AppData\\Local\\Packages\\PythonSoftwareFoundation.Python.3.11_qbz5n2kfra8p0\\LocalCache\\local-packages\\Python311\\site-packages\\lightning\\pytorch\\trainer\\connectors\\data_connector.py:425: The 'val_dataloader' does not have many workers which may be a bottleneck. Consider increasing the value of the `num_workers` argument` to `num_workers=11` in the `DataLoader` to improve performance.\n",
      "C:\\Users\\TE570809\\AppData\\Local\\Packages\\PythonSoftwareFoundation.Python.3.11_qbz5n2kfra8p0\\LocalCache\\local-packages\\Python311\\site-packages\\lightning\\pytorch\\trainer\\connectors\\data_connector.py:425: The 'train_dataloader' does not have many workers which may be a bottleneck. Consider increasing the value of the `num_workers` argument` to `num_workers=11` in the `DataLoader` to improve performance.\n"
     ]
    },
    {
     "name": "stdout",
     "output_type": "stream",
     "text": [
      "Epoch 14: 100%|██████████| 10/10 [00:00<00:00, 119.51it/s, v_num=13, val_loss=0.0317]\n",
      "MLP Test RMSE: 0.2533, MAE: 0.1884\n"
     ]
    }
   ],
   "source": [
    "if train_dl:\n",
    "    mlp_input_dim = single_step_dim * seq_len\n",
    "    mlp = MLP(input_dim=mlp_input_dim, hidden_dims=[128, 64], lr=1e-3)\n",
    "    trainer_mlp, ckpt_mlp = train_model(mlp, train_dl, val_dl, max_epochs=20)\n",
    "\n",
    "    if ckpt_mlp:\n",
    "        mlp = MLP.load_from_checkpoint(ckpt_mlp.best_model_path, input_dim=mlp_input_dim, hidden_dims=[128, 64], lr=1e-3)\n",
    "    if test_dl:\n",
    "        rmse_mlp, mae_mlp = evaluate(mlp, test_dl)\n",
    "        print(f\"MLP Test RMSE: {rmse_mlp:.4f}, MAE: {mae_mlp:.4f}\")\n"
   ]
  },
  {
   "cell_type": "markdown",
   "id": "bce4ba0a",
   "metadata": {},
   "source": [
    "### 5.3 Train and Evaluate LSTM\n"
   ]
  },
  {
   "cell_type": "code",
   "execution_count": 29,
   "id": "a37f6a9b",
   "metadata": {},
   "outputs": [
    {
     "name": "stderr",
     "output_type": "stream",
     "text": [
      "GPU available: False, used: False\n",
      "TPU available: False, using: 0 TPU cores\n",
      "HPU available: False, using: 0 HPUs\n",
      "\n",
      "  | Name      | Type    | Params | Mode \n",
      "----------------------------------------------\n",
      "0 | lstm      | LSTM    | 54.0 K | train\n",
      "1 | fc        | Linear  | 65     | train\n",
      "2 | criterion | MSELoss | 0      | train\n",
      "----------------------------------------------\n",
      "54.1 K    Trainable params\n",
      "0         Non-trainable params\n",
      "54.1 K    Total params\n",
      "0.216     Total estimated model params size (MB)\n",
      "3         Modules in train mode\n",
      "0         Modules in eval mode\n"
     ]
    },
    {
     "name": "stdout",
     "output_type": "stream",
     "text": [
      "                                                                            "
     ]
    },
    {
     "name": "stderr",
     "output_type": "stream",
     "text": [
      "C:\\Users\\TE570809\\AppData\\Local\\Packages\\PythonSoftwareFoundation.Python.3.11_qbz5n2kfra8p0\\LocalCache\\local-packages\\Python311\\site-packages\\lightning\\pytorch\\trainer\\connectors\\data_connector.py:425: The 'val_dataloader' does not have many workers which may be a bottleneck. Consider increasing the value of the `num_workers` argument` to `num_workers=11` in the `DataLoader` to improve performance.\n",
      "C:\\Users\\TE570809\\AppData\\Local\\Packages\\PythonSoftwareFoundation.Python.3.11_qbz5n2kfra8p0\\LocalCache\\local-packages\\Python311\\site-packages\\lightning\\pytorch\\trainer\\connectors\\data_connector.py:425: The 'train_dataloader' does not have many workers which may be a bottleneck. Consider increasing the value of the `num_workers` argument` to `num_workers=11` in the `DataLoader` to improve performance.\n"
     ]
    },
    {
     "name": "stdout",
     "output_type": "stream",
     "text": [
      "Epoch 19: 100%|██████████| 10/10 [00:00<00:00, 98.33it/s, v_num=14, val_loss=0.0173] "
     ]
    },
    {
     "name": "stderr",
     "output_type": "stream",
     "text": [
      "`Trainer.fit` stopped: `max_epochs=20` reached.\n"
     ]
    },
    {
     "name": "stdout",
     "output_type": "stream",
     "text": [
      "Epoch 19: 100%|██████████| 10/10 [00:00<00:00, 92.40it/s, v_num=14, val_loss=0.0173]\n",
      "LSTM Test RMSE: 0.2321, MAE: 0.1821\n"
     ]
    }
   ],
   "source": [
    "if train_dl:\n",
    "    lstm = LSTMModel(input_dim=single_step_dim, hidden_dim=64, num_layers=2, lr=1e-3)\n",
    "    trainer_lstm, ckpt_lstm = train_model(lstm, train_dl, val_dl, max_epochs=20)\n",
    "\n",
    "    if ckpt_lstm:\n",
    "        lstm = LSTMModel.load_from_checkpoint(ckpt_lstm.best_model_path, input_dim=single_step_dim, hidden_dim=64, num_layers=2, lr=1e-3)\n",
    "    if test_dl:\n",
    "        rmse_lstm, mae_lstm = evaluate(lstm, test_dl)\n",
    "        print(f\"LSTM Test RMSE: {rmse_lstm:.4f}, MAE: {mae_lstm:.4f}\")\n"
   ]
  },
  {
   "cell_type": "markdown",
   "id": "cebe00db",
   "metadata": {},
   "source": [
    "### Key Numeric Results\n",
    "\n",
    "MLP Test RMSE: 0.2533, MAE: 0.1884\n",
    "\n",
    "LSTM Test RMSE: 0.2321, MAE: 0.1821\n",
    "\n",
    "Since both the target (production_volume) and all covariates were Min–Max scaled into [0,1], these errors are “on the same scale.” In other words, an RMSE of ~0.23 means the typical squared‐error difference between actual and predicted scaled production volume is about (0.23)², and an MAE of ~0.18 means the average absolute difference is ~0.18 (out of a possible range of 1).\n",
    "\n",
    "Because the LSTM was able to leverage the “sequence” dimension, with 4 consecutive timesteps at once, it yields lower RMSE/MAE than the MLP, which only saw each flattened window as a static vector. That drop from 0.2533 → 0.2321 in RMSE and 0.1884 → 0.1821 in MAE is modest but consistent. This indicates the LSTM picked up on temporal trends (like the “GDP steadily rising,” “oil prices cycling,” etc.) a bit better than the MLP did.\n",
    "\n"
   ]
  },
  {
   "cell_type": "markdown",
   "id": "450bf387",
   "metadata": {},
   "source": [
    "## 6. Visualization and Interpretation\n"
   ]
  },
  {
   "cell_type": "code",
   "execution_count": 30,
   "id": "23688ca9",
   "metadata": {},
   "outputs": [
    {
     "data": {
      "image/png": "[encoded data removed]",
      "text/plain": [
       "<Figure size 800x400 with 1 Axes>"
      ]
     },
     "metadata": {},
     "output_type": "display_data"
    }
   ],
   "source": [
    "if test_dl:\n",
    "    # Build windowed inputs for MLP\n",
    "    windowed_X = []\n",
    "    for i in range(len(X_test) - seq_len):\n",
    "        windowed_X.append(X_test[i : i + seq_len].flatten())\n",
    "\n",
    "    if len(windowed_X) > 0:\n",
    "        windowed_X = np.stack(windowed_X)\n",
    "        mlp_preds = mlp(torch.tensor(windowed_X, dtype=torch.float32)).detach().numpy()\n",
    "    else:\n",
    "        mlp_preds = None\n",
    "\n",
    "    # Collect LSTM predictions and actuals\n",
    "    lstm_preds = []\n",
    "    actuals = []\n",
    "    with torch.no_grad():\n",
    "        for x_batch, y_batch in test_dl:\n",
    "            lstm_preds.append(lstm(x_batch).numpy())\n",
    "            actuals.append(y_batch.numpy())\n",
    "\n",
    "    if len(lstm_preds) > 0 and len(actuals) > 0:\n",
    "        lstm_preds = np.concatenate(lstm_preds)\n",
    "        actuals = np.concatenate(actuals)\n",
    "\n",
    "        plt.plot(range(len(actuals)), actuals, label=\"Actual\", marker=\"o\")\n",
    "        if mlp_preds is not None:\n",
    "            plt.plot(range(len(mlp_preds)), mlp_preds, label=\"MLP Pred\", marker=\"x\")\n",
    "        plt.plot(range(len(lstm_preds)), lstm_preds, label=\"LSTM Pred\", marker=\"s\")\n",
    "\n",
    "        plt.legend()\n",
    "        plt.title(\"Actual vs. Predicted (Test Set)\")\n",
    "        plt.xlabel(\"Time Index\")\n",
    "        plt.ylabel(\"Scaled Production Volume\")\n",
    "        plt.show()\n"
   ]
  },
  {
   "cell_type": "markdown",
   "id": "e26d669e",
   "metadata": {},
   "source": [
    "### Visual Inspection (Actual vs. Predicted)\n",
    "In the plot above (Actual vs. Predicted on the test set), there are three curves:\n",
    "\n",
    "- Actual (scaled) production volume\n",
    "\n",
    "- MLP predictions (flattened‐input feedforward)\n",
    "\n",
    "- LSTM predictions (sequence‐aware)\n",
    "\n",
    "Observations from the plot:\n",
    "\n",
    "Both models generally follow the “ups and downs” of the true production curve. Because the synthetic data had smooth trends (GDP growth, sinusoidal oil‐price cycles, 2% annual production growth + jitter), neither model fatally mis‐predicted any large spikes.\n",
    "\n",
    "The LSTM’s curve hugs the “Actual” line a bit more closely, especially around turning points (where oil‐price cycles reverse or GDP growth rate changes). That corresponds to its lower RMSE/MAE.\n",
    "\n",
    "The MLP sometimes lags behind small ripples: because it sees only the flattened window, it can’t form an internal “memory” of previous timesteps in quite the same way. It still does alright, but you’ll notice things like when production dips, the MLP prediction sometimes “turns” a step later than the LSTM.\n",
    "\n"
   ]
  },
  {
   "cell_type": "markdown",
   "id": "a6040274",
   "metadata": {},
   "source": [
    "## Key Takeaways: Why LSTM Outperforms MLP Here\n",
    "\n",
    "Temporal context: The LSTM’s hidden‐state mechanism carries information forward across the sequence. Even with a small sequence length (4 timesteps), it can learn subtle patterns such as “if oil price fell on t–3 and t–2, expect production to dip at t–1, t.” The MLP only sees a 1×(seq_len·features) vector and must learn those dependencies from static weights.\n",
    "\n",
    "Synthetic data smoothness: Because the underlying synthetic time series is smooth (yearly GDP growth + sinusoidal oil swings + small noise), the LSTM can exploit that smoothness more consistently. The MLP still approximates well but loses a touch of fidelity at edges.\n",
    "\n"
   ]
  },
  {
   "cell_type": "markdown",
   "id": "ce70a13e",
   "metadata": {},
   "source": [
    "## Recommendations\n",
    "\n",
    "- Try longer sequences or more complex LSTM architectures to see if RMSE drops further.\n",
    "\n",
    "- Experiment with other features (e.g., a lagged production volume) to give both models even more context.\n",
    "\n",
    "- Switch to real data and monitor over/under‐shooting around sudden changes (e.g., economic shocks) rather than smooth cycles.\n",
    "\n"
   ]
  }
 ],
 "metadata": {
  "kernelspec": {
   "display_name": "Python 3",
   "language": "python",
   "name": "python3"
  },
  "language_info": {
   "codemirror_mode": {
    "name": "ipython",
    "version": 3
   },
   "file_extension": ".py",
   "mimetype": "text/x-python",
   "name": "python",
   "nbconvert_exporter": "python",
   "pygments_lexer": "ipython3",
   "version": "3.11.9"
  }
 },
 "nbformat": 4,
 "nbformat_minor": 5
}
